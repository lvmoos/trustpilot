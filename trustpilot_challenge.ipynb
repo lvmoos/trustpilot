{
 "cells": [
  {
   "cell_type": "code",
   "execution_count": 1,
   "id": "66f77271",
   "metadata": {},
   "outputs": [
    {
     "name": "stdout",
     "output_type": "stream",
     "text": [
      "Number of words in list: 99175\n"
     ]
    }
   ],
   "source": [
    "import numpy as np\n",
    "import time\n",
    "import itertools\n",
    "import hashlib\n",
    "\n",
    "file_name = 'wordlist.txt'\n",
    "\n",
    "anagram = 'poultry outwits ants'\n",
    "anagram = anagram.replace(' ', '')\n",
    "\n",
    "solution_hashes = ['e4820b45d2277f3844eac66c903e84be',\n",
    "                   '23170acc097c24edb98fc5488ab033fe',\n",
    "                   '665e5bcb0c20062fe8abaaf4628bb154']\n",
    "\n",
    "with open(file_name, 'r') as file:\n",
    "    words_original = file.read().split('\\n')\n",
    "    if '' in words_original:\n",
    "        words_original.remove('')\n",
    "\n",
    "print('Number of words in list:', len(words_original))"
   ]
  },
  {
   "cell_type": "code",
   "execution_count": 2,
   "id": "bf19c0f3",
   "metadata": {},
   "outputs": [
    {
     "data": {
      "text/plain": [
       "['this is sparta',\n",
       " 'this sparta is',\n",
       " 'is this sparta',\n",
       " 'is sparta this',\n",
       " 'sparta this is',\n",
       " 'sparta is this']"
      ]
     },
     "execution_count": 2,
     "metadata": {},
     "output_type": "execute_result"
    }
   ],
   "source": [
    "# helper functions\n",
    "def check_hash(solutions, target_hashes):\n",
    "    hashes = [hashlib.md5(solution.encode()).hexdigest() for solution in solutions]\n",
    "\n",
    "    for target_hash in target_hashes:\n",
    "        try:\n",
    "            print(f'\"{solutions[hashes.index(target_hash)]}\" matches hash {target_hash}')\n",
    "        except:\n",
    "            pass\n",
    "#             print(target_hash, 'not found in solution')\n",
    "\n",
    "def words_to_phrases(word_lst):\n",
    "    phrases = []\n",
    "    for words in word_lst:\n",
    "        n_words = len(words)\n",
    "        for permutation in itertools.permutations(words, n_words):\n",
    "            phrase = ' '.join(permutation)\n",
    "            phrases.append(phrase)\n",
    "    return phrases\n",
    "\n",
    "words_to_phrases(word_lst=[['this', 'is', 'sparta']])"
   ]
  },
  {
   "cell_type": "markdown",
   "id": "0b558a31",
   "metadata": {},
   "source": [
    "# Word list filtering\n",
    "1. Only keep unique words\n",
    "2. The word is required to only contain characters that are in the anagram phrase\n",
    "3. The word cannot have more instances of a given character than is within the anagram phrase"
   ]
  },
  {
   "cell_type": "code",
   "execution_count": 3,
   "id": "5b193c3b",
   "metadata": {},
   "outputs": [
    {
     "name": "stdout",
     "output_type": "stream",
     "text": [
      "Words in current list: 99175\n",
      "Words remaining: 96317\n"
     ]
    }
   ],
   "source": [
    "# Bullet 1 - filter out non-unique words\n",
    "def remove_non_unique(words):\n",
    "    return set(words)\n",
    "\n",
    "print(f'Words in current list:', len(words_original))\n",
    "words = remove_non_unique(words_original)\n",
    "print('Words remaining:', len(words))"
   ]
  },
  {
   "cell_type": "code",
   "execution_count": 4,
   "id": "986e78e4",
   "metadata": {},
   "outputs": [
    {
     "name": "stdout",
     "output_type": "stream",
     "text": [
      "Words in current list: 96317\n",
      "Words remaining: 2527\n"
     ]
    }
   ],
   "source": [
    "# Bullet 2 - Ignore words with characters not in anagram\n",
    "def filter_invalid_char_words(words, anagram):\n",
    "    anagram_set = set(anagram)\n",
    "    words_subset = [word for word in words if set(word).issubset(anagram_set)]\n",
    "\n",
    "    return words_subset\n",
    "\n",
    "print(f'Words in current list:', len(words))\n",
    "words = filter_invalid_char_words(words, anagram)\n",
    "print('Words remaining:', len(words))"
   ]
  },
  {
   "cell_type": "code",
   "execution_count": 5,
   "id": "26ac7eb5",
   "metadata": {},
   "outputs": [
    {
     "name": "stdout",
     "output_type": "stream",
     "text": [
      "Words in current list: 2527\n",
      "Words remaining: 1659\n"
     ]
    }
   ],
   "source": [
    "# Bullet 3 - ignore words with too many instances of given character\n",
    "def get_character_count(word):\n",
    "    char_cnt = {}\n",
    "    for char in set(word):\n",
    "        char_cnt[char] = word.count(char)\n",
    "    \n",
    "    return char_cnt\n",
    "        \n",
    "def filter_execive_char_words(words):\n",
    "    # character count in anagram\n",
    "    anagram_char_cnt = get_character_count(anagram)\n",
    "\n",
    "    # keep only words with character count compatible with anagram\n",
    "    words_cnt = []\n",
    "    for word in words:\n",
    "        keep_word = True\n",
    "        for char in set(word):\n",
    "            char_cnt = word.count(char)\n",
    "            if char_cnt > anagram_char_cnt[char]:\n",
    "                keep_word = False\n",
    "                break\n",
    "\n",
    "        if keep_word:\n",
    "            words_cnt.append(word)\n",
    "            \n",
    "    return words_cnt\n",
    "        \n",
    "print(f'Words in current list:', len(words))\n",
    "words = filter_execive_char_words(words)\n",
    "print('Words remaining:', len(words))"
   ]
  },
  {
   "cell_type": "code",
   "execution_count": 6,
   "id": "4fc50abe",
   "metadata": {},
   "outputs": [],
   "source": [
    "# Only keep a single instance of a words characters\n",
    "# Note that these need to be expanded into all valid forms later\n",
    "# def filter_rendundant_character_sets(words):\n",
    "#     words_unique_lst = np.unique(np.array([sorted(word) for word in words], dtype=object))\n",
    "#     words_unique = [''.join(char_lst) for char_lst in words_unique_lst]\n",
    "#     return words_unique\n",
    "\n",
    "# print(f'Words in current list:', len(words))\n",
    "# words_set = filter_rendundant_character_sets(words)\n",
    "# print('Words remaining:', len(words_set))"
   ]
  },
  {
   "cell_type": "markdown",
   "id": "01960234",
   "metadata": {},
   "source": [
    "## Word scoring\n",
    "Each word is given a score based on their contained characters. Each character has a unique value, that is then summed up for the word. "
   ]
  },
  {
   "cell_type": "code",
   "execution_count": 7,
   "id": "e65eeae8",
   "metadata": {},
   "outputs": [
    {
     "name": "stdout",
     "output_type": "stream",
     "text": [
      "Anagram phrase: poultryoutwitsants\n",
      "Anagram value: 112121111241\n",
      "\n",
      "Checking uniqueness of word value assignments...\n",
      "Number of unique words: 1179\n",
      "Number of unique word values: 1179\n"
     ]
    }
   ],
   "source": [
    "def is_anagram(anagram, phrase):\n",
    "    ana_cnt = get_character_count(anagram)\n",
    "    phrase_cnt = get_character_count(phrase)\n",
    "    \n",
    "    if ana_cnt == phrase_cnt:\n",
    "        return True\n",
    "    else:\n",
    "        return False\n",
    "\n",
    "# provide each word a numerical score\n",
    "def get_value_map(chars):\n",
    "    value_map = {}\n",
    "    for idx, char in enumerate(chars):\n",
    "        value_map[char] = 10**idx\n",
    "        \n",
    "    return value_map\n",
    "        \n",
    "def get_word_value(word, value_map):\n",
    "    value = 0\n",
    "    \n",
    "    for char in word:\n",
    "        value += value_map[char]\n",
    "            \n",
    "    return value\n",
    "\n",
    "\n",
    "def assign_word_values(words, value_map):\n",
    "    word_values = {}\n",
    "\n",
    "    for word in words:\n",
    "        word_value = get_word_value(word, value_map=value_map)\n",
    "        word_values[word] = word_value\n",
    "    \n",
    "    sorted_value_list = sorted(word_values.items(), key=lambda t: t[::-1])\n",
    "\n",
    "    return dict(sorted_value_list), sorted_value_list\n",
    "\n",
    "value_map = get_value_map(set(anagram))\n",
    "word_value_dct, sorted_value_list = assign_word_values(words, value_map)\n",
    "anagram_value = get_word_value(word=anagram, value_map=value_map)\n",
    "\n",
    "print('Anagram phrase:', anagram)\n",
    "print('Anagram value:', anagram_value)\n",
    "\n",
    "# checking uniqueness of word values\n",
    "print('\\nChecking uniqueness of word value assignments...')\n",
    "print(f'Number of unique words:', len(np.unique(np.array([sorted(word) for word in words], dtype=object))))\n",
    "print(f'Number of unique word values:', len(np.unique([val[1] for val in sorted_value_list])))"
   ]
  },
  {
   "cell_type": "markdown",
   "id": "8a2c9fff",
   "metadata": {},
   "source": [
    "# Solution for 2 words\n",
    "Instead of looping through all words twice to find if their values sum up to the target value (O(n^2)), we can use a sorted list and only go through the list once (O(n)). We look at pairs of numbers by combining low and high values each time and moving the current index according to the target value."
   ]
  },
  {
   "cell_type": "code",
   "execution_count": 8,
   "id": "967d6dda",
   "metadata": {},
   "outputs": [
    {
     "data": {
      "text/plain": [
       "[['a', 'f'], ['b', 'e'], ['c', 'e']]"
      ]
     },
     "execution_count": 8,
     "metadata": {},
     "output_type": "execute_result"
    }
   ],
   "source": [
    "# 2 element sums\n",
    "def get_pair_sum(word_list, sum_target):\n",
    "    solutions = []\n",
    "\n",
    "    idx_low = 0\n",
    "    idx_high = len(word_list) - 1\n",
    "    \n",
    "    while idx_low < idx_high:\n",
    "        val_low = word_list[idx_low][1]\n",
    "        val_high = word_list[idx_high][1]\n",
    "\n",
    "        phrase_value = val_low + val_high\n",
    "        \n",
    "        if phrase_value == sum_target:\n",
    "            word_low = word_list[idx_low][0]\n",
    "            word_high = word_list[idx_high][0]\n",
    "            \n",
    "            solutions.append([word_low, word_high])\n",
    "    \n",
    "            # this logic keeps the loop running for mutiple words with same characters: ex: nip, pin\n",
    "            next_value_low = word_list[idx_low + 1][1]\n",
    "            next_value_high = word_list[idx_high - 1][1]\n",
    "            \n",
    "            if next_value_low == val_low:\n",
    "                idx_low += 1\n",
    "            elif next_value_high == val_high:\n",
    "                idx_high -= 1\n",
    "            else:\n",
    "                idx_low += 1\n",
    "\n",
    "        elif phrase_value < sum_target:\n",
    "            idx_low += 1\n",
    "        else:\n",
    "            idx_high -= 1\n",
    "\n",
    "    return solutions\n",
    "\n",
    "# function test: expected ('a', 'f'), ('b', 'e') and ('c', 'e')\n",
    "get_pair_sum(word_list=[('a', 3), ('b', 4), ('c', 4), ('d',8), ('e', 11), ('f', 12), ('g', 15)], sum_target=15)"
   ]
  },
  {
   "cell_type": "markdown",
   "id": "ac2eb3da",
   "metadata": {},
   "source": [
    "# Recursive solution\n",
    "This code makes looking for varying number of words in anagram easier using recursion instead of nested for loops.\n",
    "The code falls back to the base case of 2 remaining words, using the function above."
   ]
  },
  {
   "cell_type": "code",
   "execution_count": 9,
   "id": "a5702da9",
   "metadata": {},
   "outputs": [
    {
     "name": "stdout",
     "output_type": "stream",
     "text": [
      "\n",
      "Looking for solutions with 1 words\n",
      "Valid anagram phrases with 1 words: 0\n",
      "Done in 0.0 seconds\n",
      "\n",
      "Looking for solutions with 2 words\n",
      "Valid anagram phrases with 2 words: 0\n",
      "Done in 0.0 seconds\n",
      "\n",
      "Looking for solutions with 3 words\n",
      "Valid anagram phrases with 3 words: 4524\n",
      "\"printout stout yawls\" matches hash e4820b45d2277f3844eac66c903e84be\n",
      "\"ty outlaws printouts\" matches hash 23170acc097c24edb98fc5488ab033fe\n",
      "Done in 0.1880359649658203 seconds\n",
      "\n",
      "Looking for solutions with 4 words\n",
      "Valid anagram phrases with 4 words: 7088928\n",
      "\"wu lisp not statutory\" matches hash 665e5bcb0c20062fe8abaaf4628bb154\n",
      "Done in 101.52310466766357 seconds\n"
     ]
    }
   ],
   "source": [
    "def get_anagram_words(word_lst, target_value, n_words_anagram, words_current=[]):\n",
    "    solutions_total = []\n",
    "    \n",
    "    if n_words_anagram == 1:\n",
    "        for word, value in word_lst:\n",
    "            if value == target_value:\n",
    "                solutions_total.append([word])\n",
    "            elif value > target_value:\n",
    "                break\n",
    "                \n",
    "    elif n_words_anagram == 2:\n",
    "        word_pairs = get_pair_sum(word_list=word_lst, sum_target=target_value)\n",
    "        \n",
    "        if len(word_pairs) > 0:\n",
    "            for pair in word_pairs:\n",
    "                solutions_total.append(words_current + pair)\n",
    "    else:\n",
    "        n_words_anagram -= 1\n",
    "        idx_lst = 0\n",
    "            \n",
    "        for word, value in word_lst:\n",
    "            solutions = get_anagram_words(word_lst[idx_lst:],\n",
    "                                          target_value=target_value - value,\n",
    "                                          n_words_anagram=n_words_anagram,\n",
    "                                          words_current=words_current + [word]\n",
    "                                         )\n",
    "            \n",
    "            if solutions is not None:\n",
    "                for solution in solutions:\n",
    "                    solutions_total.append(solution)\n",
    "                \n",
    "            idx_lst += 1\n",
    "    \n",
    "    return solutions_total\n",
    "\n",
    "\n",
    "for n in range(1, 5):\n",
    "    print(f'\\nLooking for solutions with {n} words')\n",
    "    t0 = time.time()\n",
    "    solutions = get_anagram_words(word_lst=sorted_value_list,\n",
    "                      target_value=anagram_value,\n",
    "                      n_words_anagram=n,\n",
    "                      words_current=[])\n",
    "\n",
    "\n",
    "    anagram_phrases = words_to_phrases(solutions)\n",
    "    print(f'Valid anagram phrases with {n} words:', len(anagram_phrases))\n",
    "    check_hash(anagram_phrases, target_hashes=solution_hashes)\n",
    "    print(f'Done in {time.time() - t0} seconds')"
   ]
  }
 ],
 "metadata": {
  "kernelspec": {
   "display_name": "Python 3 (ipykernel)",
   "language": "python",
   "name": "python3"
  },
  "language_info": {
   "codemirror_mode": {
    "name": "ipython",
    "version": 3
   },
   "file_extension": ".py",
   "mimetype": "text/x-python",
   "name": "python",
   "nbconvert_exporter": "python",
   "pygments_lexer": "ipython3",
   "version": "3.9.9"
  }
 },
 "nbformat": 4,
 "nbformat_minor": 5
}
